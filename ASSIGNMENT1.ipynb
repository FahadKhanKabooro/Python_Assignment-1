{
 "cells": [
  {
   "cell_type": "code",
   "execution_count": 4,
   "id": "2d882ffa",
   "metadata": {},
   "outputs": [
    {
     "name": "stdout",
     "output_type": "stream",
     "text": [
      "Twinkle, Twinkle, Little star,\n",
      "                How I wonder what you are!\n",
      "                 Up above the world so high,\n",
      "                        Like a diamond in the sky,\n",
      "Twinkle, Twinkle,little star,\n",
      "                How I wonder what you are\n"
     ]
    }
   ],
   "source": [
    "a ='''Twinkle, Twinkle, Little star,\n",
    "                How I wonder what you are!'''\n",
    "b = '''                 Up above the world so high,\n",
    "                        Like a diamond in the sky,\n",
    "Twinkle, Twinkle,little star,\n",
    "                How I wonder what you are'''\n",
    "print(a,b,sep=('\\n'))"
   ]
  },
  {
   "cell_type": "code",
   "execution_count": 5,
   "id": "bf12b41f",
   "metadata": {},
   "outputs": [],
   "source": []
  },
  {
   "cell_type": "code",
   "execution_count": 6,
   "id": "46bc93e7",
   "metadata": {},
   "outputs": [
    {
     "name": "stdout",
     "output_type": "stream",
     "text": [
      "3.8.8 (default, Apr 13 2021, 15:08:03) [MSC v.1916 64 bit (AMD64)]\n"
     ]
    }
   ],
   "source": []
  },
  {
   "cell_type": "code",
   "execution_count": null,
   "id": "3633efe8",
   "metadata": {},
   "outputs": [],
   "source": []
  }
 ],
 "metadata": {
  "kernelspec": {
   "display_name": "Python 3",
   "language": "python",
   "name": "python3"
  },
  "language_info": {
   "codemirror_mode": {
    "name": "ipython",
    "version": 3
   },
   "file_extension": ".py",
   "mimetype": "text/x-python",
   "name": "python",
   "nbconvert_exporter": "python",
   "pygments_lexer": "ipython3",
   "version": "3.8.8"
  }
 },
 "nbformat": 4,
 "nbformat_minor": 5
}
